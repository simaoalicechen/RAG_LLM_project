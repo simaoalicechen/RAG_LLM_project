{
  "cells": [
    {
      "cell_type": "code",
      "execution_count": 150,
      "metadata": {
        "id": "mBDxqAsg1S9s"
      },
      "outputs": [],
      "source": [
        "# %%bash\n",
        "\n",
        "# pip install --upgrade pip\n",
        "# pip install farm-haystack[colab,inference]\n"
      ]
    },
    {
      "cell_type": "code",
      "execution_count": null,
      "metadata": {
        "id": "8EywJC8C1YNb"
      },
      "outputs": [],
      "source": [
        "\n",
        "\n",
        "\n",
        "from haystack.telemetry import tutorial_running\n",
        "\n",
        "tutorial_running(1)\n"
      ]
    },
    {
      "cell_type": "code",
      "execution_count": null,
      "metadata": {
        "id": "Qxff2EMW1nA_"
      },
      "outputs": [],
      "source": [
        "import logging\n",
        "\n",
        "logging.basicConfig(format=\"%(levelname)s - %(name)s -  %(message)s\", level=logging.WARNING)\n",
        "logging.getLogger(\"haystack\").setLevel(logging.INFO)\n"
      ]
    },
    {
      "cell_type": "code",
      "execution_count": null,
      "metadata": {
        "colab": {
          "base_uri": "https://localhost:8080/"
        },
        "id": "qMKsEqs21yk5",
        "outputId": "27a6e5a0-5cf0-4bb9-d7c3-3f6f69eb36e3"
      },
      "outputs": [
        {
          "output_type": "stream",
          "name": "stderr",
          "text": [
            "INFO:haystack.modeling.utils:Using devices: CUDA:0 - Number of GPUs: 1\n"
          ]
        }
      ],
      "source": [
        "from haystack.document_stores import InMemoryDocumentStore\n",
        "\n",
        "document_store = InMemoryDocumentStore(use_bm25=True)\n"
      ]
    },
    {
      "cell_type": "code",
      "execution_count": null,
      "metadata": {
        "colab": {
          "base_uri": "https://localhost:8080/",
          "height": 73
        },
        "id": "doL0BpMM100q",
        "outputId": "3128cb80-739a-41c5-c620-bcf751796af7"
      },
      "outputs": [
        {
          "output_type": "display_data",
          "data": {
            "text/plain": [
              "<IPython.core.display.HTML object>"
            ],
            "text/html": [
              "\n",
              "     <input type=\"file\" id=\"files-f665a494-95a9-409b-b8c0-4a55e8a007d6\" name=\"files[]\" multiple disabled\n",
              "        style=\"border:none\" />\n",
              "     <output id=\"result-f665a494-95a9-409b-b8c0-4a55e8a007d6\">\n",
              "      Upload widget is only available when the cell has been executed in the\n",
              "      current browser session. Please rerun this cell to enable.\n",
              "      </output>\n",
              "      <script>// Copyright 2017 Google LLC\n",
              "//\n",
              "// Licensed under the Apache License, Version 2.0 (the \"License\");\n",
              "// you may not use this file except in compliance with the License.\n",
              "// You may obtain a copy of the License at\n",
              "//\n",
              "//      http://www.apache.org/licenses/LICENSE-2.0\n",
              "//\n",
              "// Unless required by applicable law or agreed to in writing, software\n",
              "// distributed under the License is distributed on an \"AS IS\" BASIS,\n",
              "// WITHOUT WARRANTIES OR CONDITIONS OF ANY KIND, either express or implied.\n",
              "// See the License for the specific language governing permissions and\n",
              "// limitations under the License.\n",
              "\n",
              "/**\n",
              " * @fileoverview Helpers for google.colab Python module.\n",
              " */\n",
              "(function(scope) {\n",
              "function span(text, styleAttributes = {}) {\n",
              "  const element = document.createElement('span');\n",
              "  element.textContent = text;\n",
              "  for (const key of Object.keys(styleAttributes)) {\n",
              "    element.style[key] = styleAttributes[key];\n",
              "  }\n",
              "  return element;\n",
              "}\n",
              "\n",
              "// Max number of bytes which will be uploaded at a time.\n",
              "const MAX_PAYLOAD_SIZE = 100 * 1024;\n",
              "\n",
              "function _uploadFiles(inputId, outputId) {\n",
              "  const steps = uploadFilesStep(inputId, outputId);\n",
              "  const outputElement = document.getElementById(outputId);\n",
              "  // Cache steps on the outputElement to make it available for the next call\n",
              "  // to uploadFilesContinue from Python.\n",
              "  outputElement.steps = steps;\n",
              "\n",
              "  return _uploadFilesContinue(outputId);\n",
              "}\n",
              "\n",
              "// This is roughly an async generator (not supported in the browser yet),\n",
              "// where there are multiple asynchronous steps and the Python side is going\n",
              "// to poll for completion of each step.\n",
              "// This uses a Promise to block the python side on completion of each step,\n",
              "// then passes the result of the previous step as the input to the next step.\n",
              "function _uploadFilesContinue(outputId) {\n",
              "  const outputElement = document.getElementById(outputId);\n",
              "  const steps = outputElement.steps;\n",
              "\n",
              "  const next = steps.next(outputElement.lastPromiseValue);\n",
              "  return Promise.resolve(next.value.promise).then((value) => {\n",
              "    // Cache the last promise value to make it available to the next\n",
              "    // step of the generator.\n",
              "    outputElement.lastPromiseValue = value;\n",
              "    return next.value.response;\n",
              "  });\n",
              "}\n",
              "\n",
              "/**\n",
              " * Generator function which is called between each async step of the upload\n",
              " * process.\n",
              " * @param {string} inputId Element ID of the input file picker element.\n",
              " * @param {string} outputId Element ID of the output display.\n",
              " * @return {!Iterable<!Object>} Iterable of next steps.\n",
              " */\n",
              "function* uploadFilesStep(inputId, outputId) {\n",
              "  const inputElement = document.getElementById(inputId);\n",
              "  inputElement.disabled = false;\n",
              "\n",
              "  const outputElement = document.getElementById(outputId);\n",
              "  outputElement.innerHTML = '';\n",
              "\n",
              "  const pickedPromise = new Promise((resolve) => {\n",
              "    inputElement.addEventListener('change', (e) => {\n",
              "      resolve(e.target.files);\n",
              "    });\n",
              "  });\n",
              "\n",
              "  const cancel = document.createElement('button');\n",
              "  inputElement.parentElement.appendChild(cancel);\n",
              "  cancel.textContent = 'Cancel upload';\n",
              "  const cancelPromise = new Promise((resolve) => {\n",
              "    cancel.onclick = () => {\n",
              "      resolve(null);\n",
              "    };\n",
              "  });\n",
              "\n",
              "  // Wait for the user to pick the files.\n",
              "  const files = yield {\n",
              "    promise: Promise.race([pickedPromise, cancelPromise]),\n",
              "    response: {\n",
              "      action: 'starting',\n",
              "    }\n",
              "  };\n",
              "\n",
              "  cancel.remove();\n",
              "\n",
              "  // Disable the input element since further picks are not allowed.\n",
              "  inputElement.disabled = true;\n",
              "\n",
              "  if (!files) {\n",
              "    return {\n",
              "      response: {\n",
              "        action: 'complete',\n",
              "      }\n",
              "    };\n",
              "  }\n",
              "\n",
              "  for (const file of files) {\n",
              "    const li = document.createElement('li');\n",
              "    li.append(span(file.name, {fontWeight: 'bold'}));\n",
              "    li.append(span(\n",
              "        `(${file.type || 'n/a'}) - ${file.size} bytes, ` +\n",
              "        `last modified: ${\n",
              "            file.lastModifiedDate ? file.lastModifiedDate.toLocaleDateString() :\n",
              "                                    'n/a'} - `));\n",
              "    const percent = span('0% done');\n",
              "    li.appendChild(percent);\n",
              "\n",
              "    outputElement.appendChild(li);\n",
              "\n",
              "    const fileDataPromise = new Promise((resolve) => {\n",
              "      const reader = new FileReader();\n",
              "      reader.onload = (e) => {\n",
              "        resolve(e.target.result);\n",
              "      };\n",
              "      reader.readAsArrayBuffer(file);\n",
              "    });\n",
              "    // Wait for the data to be ready.\n",
              "    let fileData = yield {\n",
              "      promise: fileDataPromise,\n",
              "      response: {\n",
              "        action: 'continue',\n",
              "      }\n",
              "    };\n",
              "\n",
              "    // Use a chunked sending to avoid message size limits. See b/62115660.\n",
              "    let position = 0;\n",
              "    do {\n",
              "      const length = Math.min(fileData.byteLength - position, MAX_PAYLOAD_SIZE);\n",
              "      const chunk = new Uint8Array(fileData, position, length);\n",
              "      position += length;\n",
              "\n",
              "      const base64 = btoa(String.fromCharCode.apply(null, chunk));\n",
              "      yield {\n",
              "        response: {\n",
              "          action: 'append',\n",
              "          file: file.name,\n",
              "          data: base64,\n",
              "        },\n",
              "      };\n",
              "\n",
              "      let percentDone = fileData.byteLength === 0 ?\n",
              "          100 :\n",
              "          Math.round((position / fileData.byteLength) * 100);\n",
              "      percent.textContent = `${percentDone}% done`;\n",
              "\n",
              "    } while (position < fileData.byteLength);\n",
              "  }\n",
              "\n",
              "  // All done.\n",
              "  yield {\n",
              "    response: {\n",
              "      action: 'complete',\n",
              "    }\n",
              "  };\n",
              "}\n",
              "\n",
              "scope.google = scope.google || {};\n",
              "scope.google.colab = scope.google.colab || {};\n",
              "scope.google.colab._files = {\n",
              "  _uploadFiles,\n",
              "  _uploadFilesContinue,\n",
              "};\n",
              "})(self);\n",
              "</script> "
            ]
          },
          "metadata": {}
        },
        {
          "output_type": "stream",
          "name": "stdout",
          "text": [
            "Saving testingtexts.zip to testingtexts.zip\n"
          ]
        }
      ],
      "source": [
        "# from haystack.utils import fetch_archive_from_http\n",
        "\n",
        "from google.colab import files\n",
        "\n",
        "uploaded = files.upload()\n",
        "\n"
      ]
    },
    {
      "cell_type": "code",
      "execution_count": null,
      "metadata": {
        "id": "EBN3kArST26w"
      },
      "outputs": [],
      "source": [
        "import shutil\n",
        "import os\n",
        "\n",
        "zip_file_name = 'testingtexts.zip'\n",
        "target_dir = '/content/data/text'\n",
        "shutil.unpack_archive(zip_file_name, target_dir, 'zip')\n"
      ]
    },
    {
      "cell_type": "code",
      "execution_count": null,
      "metadata": {
        "id": "W8huf1eIWrlG"
      },
      "outputs": [],
      "source": [
        "# Optional step\n",
        "import shutil\n",
        "\n",
        "directory_path = '/content/data/text/__MACOSX'\n",
        "shutil.rmtree(directory_path)\n"
      ]
    },
    {
      "cell_type": "code",
      "source": [
        "import os\n",
        "from haystack.pipelines.standard_pipelines import TextIndexingPipeline\n",
        "\n",
        "files_to_index = [target_dir+ \"/\" + f for f in os.listdir(target_dir)]\n",
        "indexing_pipeline = TextIndexingPipeline(document_store)\n",
        "indexing_pipeline.run_batch(file_paths=files_to_index)\n"
      ],
      "metadata": {
        "colab": {
          "base_uri": "https://localhost:8080/"
        },
        "id": "-ybMyrRAtGFo",
        "outputId": "ff70a5f4-68cb-47d9-9849-37cf0421f250"
      },
      "execution_count": null,
      "outputs": [
        {
          "output_type": "stream",
          "name": "stderr",
          "text": [
            "INFO:haystack.pipelines.base:It seems that an indexing Pipeline is run, so using the nodes' run method instead of run_batch.\n",
            "Converting files: 100%|██████████| 1/1 [00:00<00:00, 160.83it/s]\n",
            "Preprocessing: 100%|██████████| 1/1 [00:00<00:00, 119.98docs/s]\n",
            "Updating BM25 representation...: 100%|██████████| 285/285 [00:00<00:00, 4425.29 docs/s]\n"
          ]
        },
        {
          "output_type": "execute_result",
          "data": {
            "text/plain": [
              "{'documents': [<Document: {'content': \"INTRODUCTION\\nThe Vajont reservoir disaster is a classic example of the consequences of the failure of engineers and geologists to understand the nature of the problem that they were trying to deal with. During the filling of the reservoir a block of approximately 270 million m3\\ndetached from one wall and slid into the lake at velocities of up to 30 m sec-1 (approx. 110 km h-1). As a result a wave over topped the dam by 250 m and swept onto the valley below, with the loss of about 2500 lives. Remarkably the dam remained unbroken by the flood.\\nLOCATION AND BACKGROUND\\nVajont is located in the south-eastern part of the Dolomite Region of the Italian Alps, about 100 km north of Venice (Fig. 1). It was built as a part of the on-going, post-war development of Italy in order to provide HEP for the rapidly-expanding northern cities of Milan, Turin and Modena. Whilst a proposal to site a dam at this location was made in the 1920's, excavation of the site began in 1956 and the dam was completed in 1960. \", 'content_type': 'text', 'score': None, 'meta': {'_split_id': 0}, 'id_hash_keys': ['content'], 'embedding': None, 'id': '32717dd3339bb101abc0d2b3c9a1aaa9'}>,\n",
              "  <Document: {'content': 'The completed doubly curved arch dam was, at 265.5 metres above the valley floor, the worlds highest thin arch dam. The chord of the dam was 160 m, and the volume of impounded water was 115 million m3.\\nFigure 1: Schematic map of the location of the Vajont dam and reservoir\\nThe dam was built across the Vajont Valley, a deep, narrow gorge. The geological setting of the valley was fully understood. In this area, the mountains tend to be characterised by massive, near-vertical cliffs formed in the Jurassic Dogger formation and underlying Triassic formations. The local valleys tend to be associated with outcrops of the weaker formations, particularly the Upper and Lower Cretaceous and Tertiary units, which contain more clays and are more thinly bedded. Thus the generalised geological structure is of a syncline cut by the valley (Fig. 2). The syncline is based in middle Jurassic limestone, overlain with successive layers of upper Jurassic limestone with clay and Cretaceous\\n\\nlimestones.\\nFigure 2: Schematic cross-section through the Vajont valley ORDER OF EVENTS\\n1. ', 'content_type': 'text', 'score': None, 'meta': {'_split_id': 1}, 'id_hash_keys': ['content'], 'embedding': None, 'id': '5c0de1c932ca09dd015ab19a2a775dc9'}>,\n",
              "  <Document: {'content': \"Prior to the Completion of the Dam\\nIt appears that during the construction of the dam the chief engineer was concerned about the stability of the left bank of the dam, and a number of reports were compiled on this during 1958 and 1959, which identified a possible prehistoric slide on the right bank. Whilst there was considerable discussion of the stability of the valley walls in view of the inclined synclinal form of the strata and the possibility of old slides in this area, it was concluded that deep-seated landslides were extremely unlikely as (see Muller 1964 for a review of this):\\n• areas of weakness were not identified in the three test borings;\\n• it was assumed that any shear plane would have a 'chairlike' form that would exert a\\n'braking effect';\\n• seismic analyses had suggest that the banks consisted of very firm in-situ rock with a\\nhigh modulus of elasticity.\\nSmaller slides in the looser surface layers were considered to be likely, although volumes and velocities of movement were expected to be low.\\n\\n2. During the First Filling of the Reservoir\\nFilling was initiated in February 1960 (Fig. \", 'content_type': 'text', 'score': None, 'meta': {'_split_id': 2}, 'id_hash_keys': ['content'], 'embedding': None, 'id': 'f7f64544afe7e92ca4d65b3558863d72'}>,\n",
              "  <Document: {'content': '3), before final completion of the dam (which occurred in September 1960). By March 1960 the level of the reservoir had reached 130 m above the level of the river, when the first small detachment occurred. Continued filling of the reservoir occurred whilst monitoring of the movements in the banks was undertaken. In October 1960, when the depth of the reservoir had reached 170 metres, a rapid increase in the rate of displacement to approximately 3.5 cm day-1 was observed. At the same time a huge joint of 2 km length opened up, defining an area about 1700 m long and 1000 m wide, suggesting that a very large landslide had been mobilised. On 4 November, with the depth of the reservoir at 180 m, a large failure occurred when 700 000 m 3 of material slid into the lake in about ten minutes. As a result the level of the reservoir was gently dropped back to 135 m. At this point movement reduced to close to 1 mm day-1.\\nIt was realised by the designers of the dam that the large mass of the left bank was inherently unstable. ', 'content_type': 'text', 'score': None, 'meta': {'_split_id': 3}, 'id_hash_keys': ['content'], 'embedding': None, 'id': '7d3148716bd0d9633b27c8435e276661'}>,\n",
              "  <Document: {'content': \"However Muller (1964) states that:\\n'It appeared hopeless to arrest the slide artificially, because all means that would have had to be applied were beyond human bounds. It was also impossible to either seal the surface of the area, to shift the weight or to cement the rock by means of injections. On the other hand the possibility of accelerating the sliding movement in order to let the entire mass to slide down all at once had to be excluded. The danger arising for the formation upstream of the slide by an uncontrollable level of the storage lake would have been too great.'Figure 3: Chronology of events leading up to the catastrophic failure\\nThus it was decided that an attempt could be made to gain control of the sliding mass by varying the level of water in the reservoir whilst controlling the joint water thrust within the rock mass by means of drainage tunnels. It was realised that this could lead to the blockage of that section of the reservoir by the landslide mass. However the volume of water in the unblocked (upstream) section would still be sufficient to allow the generation of electricity. \", 'content_type': 'text', 'score': None, 'meta': {'_split_id': 4}, 'id_hash_keys': ['content'], 'embedding': None, 'id': '6dc9b5f6ba8226a0cfdead97fc5c986'}>,\n",
              "  <Document: {'content': 'Hence a bypass tunnel was constructed on the opposite (right) bank such that if the reservoir was divided into two sections the level of the lake could still be controlled.\\nIt was assumed that by elevating the level of the reservoir in a careful manner movement of the large landslide mass could be initiated. The rate of movement could be controlled by altering the level of the lake. It was realised that a final sudden movement might occur, and it was calculated that, so long as the movement did not exceed a rate that would lead to filling of the reservoir by the landslide in ten minutes or less, over-topping of the dam would be avoided.\\n\\n3. First Draw-Down of the Reservoir\\nCreep had been initiated by the initial filling of the reservoir. As the level was subsequently drawn down, rates of movement decreased from a maximum of about 8 cm day-1 to 3 mm day-1 at a level of 185 m and less than 1 mm day-1 at 135 m. By this time the main landslide mass had moved an average of about 1 m.\\n4. ', 'content_type': 'text', 'score': None, 'meta': {'_split_id': 5}, 'id_hash_keys': ['content'], 'embedding': None, 'id': '9b4f046e5d0092f328683f7a3e2655ae'}>,\n",
              "  <Document: {'content': 'Second Filling of the Reservoir\\nFrom the beginning of October 1961 through to early February 1962 the water level was raised to 185 m, followed by a phase of slow impoundment such that in November 1962 the level had reached 235 m. During the early part of this phase velocities did not substantially increase, but by the end of the phase velocities had increased to 1.2 cm day-1 .\\n5. Second Draw-Down of the Reservoir\\nIn November 1962 a second lowering of the level was slowly undertaken, with the water depth decreasing to 185 m after four months. Initially displacements remained high but in December they began to reduce and, by early April when the water height had reached 185 m, the rate was effectively zero. The experiences gained from the second phase of filling and the subsequent draw-down confirmed to the engineers that control of the landslide was possible by altering the level of the reservoir. In consequence a third filling of the reservoir was undertaken.\\n6. Third Filling of the Reservoir\\nBetween April and May 1963 the reservoir level was rapidly increased to 231 m. Slight increases in velocity were noted, but rates never exceeded 0.3 cm day-1. ', 'content_type': 'text', 'score': None, 'meta': {'_split_id': 6}, 'id_hash_keys': ['content'], 'embedding': None, 'id': '88a86d569419d49c6005025a7dfaf60e'}>,\n",
              "  <Document: {'content': 'During June the level was increased to 237 m and the rate of displacement increased to 0.4 cm day -1 . In mid July the level reached 240 m and some of the control points indicated small increases in displacement to 0.5 cm day-1. The level was maintained through to mid-August, but during this time velocities increased to 0.8 cm day-1 . In the latter part of August the level was increased once more such that by early September the depth of water was 245 m. In some parts of the slide velocities increased to as much as 3.5 cm day-1 .\\n7. Third Drawing Down of the Reservoir\\nIn late September the water level was slowly dropped to bring the rates of creep back under control. By October 9 a depth of 235 m was reached. However velocities of movement continued to slowly increase, and by October 9 rates of up to 20 cm day-1 were recorded.\\n\\n8. Catastrophic Failure\\nAt 22:38 GMT on October 9 1963 catastrophic failure of the landslide occurred. The entire mass slid approximately 500 m northwards at up to 30 m sec-1. ', 'content_type': 'text', 'score': None, 'meta': {'_split_id': 7}, 'id_hash_keys': ['content'], 'embedding': None, 'id': '497da2dc397d32848c025afcf50ac2c9'}>,\n",
              "  <Document: {'content': 'The mass completely blocked the gorge to a depth of up to 400m , and it travelled up to 140 m up the opposite bank. Movement of the landslide mass ceased after a maximum of 45 sec. At the time the reservoir contained 115 million m3 of water. A wave of water was pushed up the opposite bank and destroyed the village of Casso, 260 m above lake level before over-topping the dam by up to 245 m. The water, estimated to have had a volume of about 30 million m3, then fell more than 500 m onto the villages of Longarone, Pirago, Villanova, Rivalta and Fae, totally decimating them. A total 2500 lives were lost. However the dam was not destroyed and is still standing today. The by-pass tunnel is used for the generation of HEP.\\nCAUSES OF FAILURE\\nSince the catastrophic failure, a huge range of work has been undertaken on the causes of the failure. Initially the was a large amount of speculation about the location of the sliding surface, but more recent studies have confirmed that it was located in thin (5 - 15 cm) clay layers in the limestone. ', 'content_type': 'text', 'score': None, 'meta': {'_split_id': 8}, 'id_hash_keys': ['content'], 'embedding': None, 'id': 'd13d4e7e66dac9ce76dd3ecb4846ccb'}>,\n",
              "  <Document: {'content': \"It is claimed by some that as such it represents a reactivation of an old landslide (Hendron and Patten, 1985; Pasuto and Soldati, 1991), whilst others claim that it was a first-time movement (Skempton, 1966; Petley, 1996). It is likely that increasing the level of the reservoir drove up pore pressures in the clay layers, reducing the effective normal strength and hence the shear resistance. Resistance to movement was created by the chair-like form of the shear surface. Dropping the level of the reservoir induced hydraulic pressures that increased the stresses as water in the jointed limestone tried to drain. It has been estimated that the total thrust from this effect was 2 - 4 million tonnes (!?) (Muller, 1964). Failure occurred in a brittle manner, inducing catastrophic loss of strength. The speed of movement is probably the result of frictional heating of the pore water in the clay layers (Voight and Faust, 1982, 1992).\\nREFERENCES\\nHendron, A.J., and Patten, F.D, 1985, The Vaiont Slide. US Corps of Engineers Technical Report GL-85-8.\\nJaegar, C., 1980, Rock mechanics and Engineering. Cambridge University Press, 523 pages.\\nKiersch, G.A., 1964. 'Vaiont reservoir disaster'. Civil Engng, 34, 32-39.\\n\", 'content_type': 'text', 'score': None, 'meta': {'_split_id': 9}, 'id_hash_keys': ['content'], 'embedding': None, 'id': '3e31ef39260f96cf19d11f61c4be0a43'}>,\n",
              "  <Document: {'content': \"Müller, L., 1964, The rock slide in the Vaiont valley. Felsmechanik und Ingenieur-geologie, 2, 148-212.\\n\\nPasuto, M. and Soldati, A. 1990. 'Some cases of deep-seated gravitational deformations in the area of Cortina d'Ampezzo (Dolomites)', The Proceedings of the European Short Course on Applied Geomorphology, 2, 91-104.\\nPetley, D.N. 1996. 'The mechanics and landforms of deep-seated landslides'. Brooks, S., and Anderson, M (eds). Advances in Hillslope Processes, John Wiley, Chichester.\\nSkempton, A.W. 1966. 'Bedding-plane slip, residual strength and the Vaiont landslide', Geotechnique, 16, 82-84.\\nVoight, B. and Faust, C., 1982, Frictional heat and strength loss in some rapid landslides Geotechnique, 32, 43-54.\\nVoight, B. and Faust, C. 1992. 'Frictional heat and strength loss in some rapid landslides: error correction and affirmation of mechanism for the Vaiont landslide', Geotechnique, 42, 641-643.\\nCopyright © Dr David Petley 2001. All rights reserved\", 'content_type': 'text', 'score': None, 'meta': {'_split_id': 10}, 'id_hash_keys': ['content'], 'embedding': None, 'id': 'c15bf3a7f6b3f59e6b38332d2bab93be'}>],\n",
              " 'root_node': 'File',\n",
              " 'params': {},\n",
              " 'file_paths': ['/content/data/text/testingtexts.txt'],\n",
              " 'node_id': 'DocumentStore'}"
            ]
          },
          "metadata": {},
          "execution_count": 143
        }
      ]
    },
    {
      "cell_type": "code",
      "execution_count": null,
      "metadata": {
        "id": "3Ia5g4Oz17xP"
      },
      "outputs": [],
      "source": [
        "from haystack.nodes import BM25Retriever\n",
        "\n",
        "retriever = BM25Retriever(document_store=document_store)\n"
      ]
    },
    {
      "cell_type": "code",
      "execution_count": null,
      "metadata": {
        "id": "Lk-mHb_WT08H"
      },
      "outputs": [],
      "source": []
    },
    {
      "cell_type": "code",
      "execution_count": null,
      "metadata": {
        "colab": {
          "base_uri": "https://localhost:8080/"
        },
        "id": "XrF_AvZf2I9H",
        "outputId": "f7ef880b-48cf-4e09-8b29-5c863ed31819"
      },
      "outputs": [
        {
          "output_type": "stream",
          "name": "stderr",
          "text": [
            "INFO:haystack.modeling.utils:Using devices: CUDA:0 - Number of GPUs: 1\n",
            "INFO:haystack.modeling.utils:Using devices: CUDA:0 - Number of GPUs: 1\n",
            "INFO:haystack.modeling.model.language_model: * LOADING MODEL: 'deepset/roberta-base-squad2' (Roberta)\n",
            "INFO:haystack.modeling.model.language_model:Auto-detected model language: english\n",
            "INFO:haystack.modeling.model.language_model:Loaded 'deepset/roberta-base-squad2' (Roberta model) from model hub.\n",
            "INFO:haystack.modeling.utils:Using devices: CUDA:0 - Number of GPUs: 1\n"
          ]
        }
      ],
      "source": [
        "from haystack.nodes import FARMReader\n",
        "\n",
        "reader = FARMReader(model_name_or_path=\"deepset/roberta-base-squad2\", use_gpu=True)\n"
      ]
    },
    {
      "cell_type": "code",
      "execution_count": null,
      "metadata": {
        "id": "22EazcKx2LXe"
      },
      "outputs": [],
      "source": [
        "from haystack.pipelines import ExtractiveQAPipeline\n",
        "\n",
        "pipe = ExtractiveQAPipeline(reader, retriever)\n"
      ]
    },
    {
      "cell_type": "code",
      "execution_count": null,
      "metadata": {
        "colab": {
          "base_uri": "https://localhost:8080/"
        },
        "id": "9c0GBScE2OK_",
        "outputId": "59165870-c201-46b5-fed5-6eadd4fdcb7f"
      },
      "outputs": [
        {
          "output_type": "stream",
          "name": "stderr",
          "text": [
            "Inferencing Samples: 100%|██████████| 1/1 [00:00<00:00,  3.95 Batches/s]\n"
          ]
        }
      ],
      "source": [
        "prediction = pipe.run(\n",
        "    query=\"What is the name of dam?\", params={\"Retriever\": {\"top_k\": 10}, \"Reader\": {\"top_k\": 5}}\n",
        ")\n"
      ]
    },
    {
      "cell_type": "code",
      "execution_count": null,
      "metadata": {
        "colab": {
          "base_uri": "https://localhost:8080/"
        },
        "id": "CI6-rs602RCA",
        "outputId": "b66228b3-e502-4686-b0a8-ecbc9cc94158"
      },
      "outputs": [
        {
          "output_type": "stream",
          "name": "stdout",
          "text": [
            "{'answers': [<Answer {'answer': 'doubly curved arch dam', 'type': 'extractive', 'score': 0.607661247253418, 'context': 'The completed doubly curved arch dam was, at 265.5 metres above the valley floor, the worlds highest thin arch dam. The chord of the dam was 160 m, an', 'offsets_in_document': [{'start': 14, 'end': 36}], 'offsets_in_context': [{'start': 14, 'end': 36}], 'document_ids': ['5c0de1c932ca09dd015ab19a2a775dc9'], 'meta': {'_split_id': 1}}>,\n",
            "             <Answer {'answer': 'Vajont reservoir', 'type': 'extractive', 'score': 0.34198957681655884, 'context': 'INTRODUCTION\\nThe Vajont reservoir disaster is a classic example of the consequences of the failure of engineers and geologists to understand the natur', 'offsets_in_document': [{'start': 17, 'end': 33}], 'offsets_in_context': [{'start': 17, 'end': 33}], 'document_ids': ['32717dd3339bb101abc0d2b3c9a1aaa9'], 'meta': {'_split_id': 0}}>,\n",
            "             <Answer {'answer': 'The Vaiont Slide', 'type': 'extractive', 'score': 0.03968477621674538, 'context': 'ust, 1982, 1992).\\nREFERENCES\\nHendron, A.J., and Patten, F.D, 1985, The Vaiont Slide. US Corps of Engineers Technical Report GL-85-8.\\nJaegar, C., 1980,', 'offsets_in_document': [{'start': 987, 'end': 1003}], 'offsets_in_context': [{'start': 67, 'end': 83}], 'document_ids': ['3e31ef39260f96cf19d11f61c4be0a43'], 'meta': {'_split_id': 9}}>,\n",
            "             <Answer {'answer': 'storage lake', 'type': 'extractive', 'score': 0.036622919142246246, 'context': \"he formation upstream of the slide by an uncontrollable level of the storage lake would have been too great.'Figure 3: Chronology of events leading up\", 'offsets_in_document': [{'start': 540, 'end': 552}], 'offsets_in_context': [{'start': 69, 'end': 81}], 'document_ids': ['6dc9b5f6ba8226a0cfdead97fc5c986'], 'meta': {'_split_id': 4}}>,\n",
            "             <Answer {'answer': 'Casso', 'type': 'extractive', 'score': 0.0333370640873909, 'context': 've of water was pushed up the opposite bank and destroyed the village of Casso, 260 m above lake level before over-topping the dam by up to 245 m. The', 'offsets_in_document': [{'start': 319, 'end': 324}], 'offsets_in_context': [{'start': 73, 'end': 78}], 'document_ids': ['d13d4e7e66dac9ce76dd3ecb4846ccb'], 'meta': {'_split_id': 8}}>],\n",
            " 'documents': [<Document: {'content': 'The completed doubly curved arch dam was, at 265.5 metres above the valley floor, the worlds highest thin arch dam. The chord of the dam was 160 m, and the volume of impounded water was 115 million m3.\\nFigure 1: Schematic map of the location of the Vajont dam and reservoir\\nThe dam was built across the Vajont Valley, a deep, narrow gorge. The geological setting of the valley was fully understood. In this area, the mountains tend to be characterised by massive, near-vertical cliffs formed in the Jurassic Dogger formation and underlying Triassic formations. The local valleys tend to be associated with outcrops of the weaker formations, particularly the Upper and Lower Cretaceous and Tertiary units, which contain more clays and are more thinly bedded. Thus the generalised geological structure is of a syncline cut by the valley (Fig. 2). The syncline is based in middle Jurassic limestone, overlain with successive layers of upper Jurassic limestone with clay and Cretaceous\\n\\nlimestones.\\nFigure 2: Schematic cross-section through the Vajont valley ORDER OF EVENTS\\n1. ', 'content_type': 'text', 'score': 0.9388213543700128, 'meta': {'_split_id': 1}, 'id_hash_keys': ['content'], 'embedding': None, 'id': '5c0de1c932ca09dd015ab19a2a775dc9'}>,\n",
            "               <Document: {'content': \"INTRODUCTION\\nThe Vajont reservoir disaster is a classic example of the consequences of the failure of engineers and geologists to understand the nature of the problem that they were trying to deal with. During the filling of the reservoir a block of approximately 270 million m3\\ndetached from one wall and slid into the lake at velocities of up to 30 m sec-1 (approx. 110 km h-1). As a result a wave over topped the dam by 250 m and swept onto the valley below, with the loss of about 2500 lives. Remarkably the dam remained unbroken by the flood.\\nLOCATION AND BACKGROUND\\nVajont is located in the south-eastern part of the Dolomite Region of the Italian Alps, about 100 km north of Venice (Fig. 1). It was built as a part of the on-going, post-war development of Italy in order to provide HEP for the rapidly-expanding northern cities of Milan, Turin and Modena. Whilst a proposal to site a dam at this location was made in the 1920's, excavation of the site began in 1956 and the dam was completed in 1960. \", 'content_type': 'text', 'score': 0.937604547868729, 'meta': {'_split_id': 0}, 'id_hash_keys': ['content'], 'embedding': None, 'id': '32717dd3339bb101abc0d2b3c9a1aaa9'}>,\n",
            "               <Document: {'content': 'The mass completely blocked the gorge to a depth of up to 400m , and it travelled up to 140 m up the opposite bank. Movement of the landslide mass ceased after a maximum of 45 sec. At the time the reservoir contained 115 million m3 of water. A wave of water was pushed up the opposite bank and destroyed the village of Casso, 260 m above lake level before over-topping the dam by up to 245 m. The water, estimated to have had a volume of about 30 million m3, then fell more than 500 m onto the villages of Longarone, Pirago, Villanova, Rivalta and Fae, totally decimating them. A total 2500 lives were lost. However the dam was not destroyed and is still standing today. The by-pass tunnel is used for the generation of HEP.\\nCAUSES OF FAILURE\\nSince the catastrophic failure, a huge range of work has been undertaken on the causes of the failure. Initially the was a large amount of speculation about the location of the sliding surface, but more recent studies have confirmed that it was located in thin (5 - 15 cm) clay layers in the limestone. ', 'content_type': 'text', 'score': 0.9293932968406574, 'meta': {'_split_id': 8}, 'id_hash_keys': ['content'], 'embedding': None, 'id': 'd13d4e7e66dac9ce76dd3ecb4846ccb'}>,\n",
            "               <Document: {'content': \"Prior to the Completion of the Dam\\nIt appears that during the construction of the dam the chief engineer was concerned about the stability of the left bank of the dam, and a number of reports were compiled on this during 1958 and 1959, which identified a possible prehistoric slide on the right bank. Whilst there was considerable discussion of the stability of the valley walls in view of the inclined synclinal form of the strata and the possibility of old slides in this area, it was concluded that deep-seated landslides were extremely unlikely as (see Muller 1964 for a review of this):\\n• areas of weakness were not identified in the three test borings;\\n• it was assumed that any shear plane would have a 'chairlike' form that would exert a\\n'braking effect';\\n• seismic analyses had suggest that the banks consisted of very firm in-situ rock with a\\nhigh modulus of elasticity.\\nSmaller slides in the looser surface layers were considered to be likely, although volumes and velocities of movement were expected to be low.\\n\\n2. During the First Filling of the Reservoir\\nFilling was initiated in February 1960 (Fig. \", 'content_type': 'text', 'score': 0.8994872336784538, 'meta': {'_split_id': 2}, 'id_hash_keys': ['content'], 'embedding': None, 'id': 'f7f64544afe7e92ca4d65b3558863d72'}>,\n",
            "               <Document: {'content': '3), before final completion of the dam (which occurred in September 1960). By March 1960 the level of the reservoir had reached 130 m above the level of the river, when the first small detachment occurred. Continued filling of the reservoir occurred whilst monitoring of the movements in the banks was undertaken. In October 1960, when the depth of the reservoir had reached 170 metres, a rapid increase in the rate of displacement to approximately 3.5 cm day-1 was observed. At the same time a huge joint of 2 km length opened up, defining an area about 1700 m long and 1000 m wide, suggesting that a very large landslide had been mobilised. On 4 November, with the depth of the reservoir at 180 m, a large failure occurred when 700 000 m 3 of material slid into the lake in about ten minutes. As a result the level of the reservoir was gently dropped back to 135 m. At this point movement reduced to close to 1 mm day-1.\\nIt was realised by the designers of the dam that the large mass of the left bank was inherently unstable. ', 'content_type': 'text', 'score': 0.8931245469501577, 'meta': {'_split_id': 3}, 'id_hash_keys': ['content'], 'embedding': None, 'id': '7d3148716bd0d9633b27c8435e276661'}>,\n",
            "               <Document: {'content': 'Hence a bypass tunnel was constructed on the opposite (right) bank such that if the reservoir was divided into two sections the level of the lake could still be controlled.\\nIt was assumed that by elevating the level of the reservoir in a careful manner movement of the large landslide mass could be initiated. The rate of movement could be controlled by altering the level of the lake. It was realised that a final sudden movement might occur, and it was calculated that, so long as the movement did not exceed a rate that would lead to filling of the reservoir by the landslide in ten minutes or less, over-topping of the dam would be avoided.\\n\\n3. First Draw-Down of the Reservoir\\nCreep had been initiated by the initial filling of the reservoir. As the level was subsequently drawn down, rates of movement decreased from a maximum of about 8 cm day-1 to 3 mm day-1 at a level of 185 m and less than 1 mm day-1 at 135 m. By this time the main landslide mass had moved an average of about 1 m.\\n4. ', 'content_type': 'text', 'score': 0.8761583538271251, 'meta': {'_split_id': 5}, 'id_hash_keys': ['content'], 'embedding': None, 'id': '9b4f046e5d0092f328683f7a3e2655ae'}>,\n",
            "               <Document: {'content': \"It is claimed by some that as such it represents a reactivation of an old landslide (Hendron and Patten, 1985; Pasuto and Soldati, 1991), whilst others claim that it was a first-time movement (Skempton, 1966; Petley, 1996). It is likely that increasing the level of the reservoir drove up pore pressures in the clay layers, reducing the effective normal strength and hence the shear resistance. Resistance to movement was created by the chair-like form of the shear surface. Dropping the level of the reservoir induced hydraulic pressures that increased the stresses as water in the jointed limestone tried to drain. It has been estimated that the total thrust from this effect was 2 - 4 million tonnes (!?) (Muller, 1964). Failure occurred in a brittle manner, inducing catastrophic loss of strength. The speed of movement is probably the result of frictional heating of the pore water in the clay layers (Voight and Faust, 1982, 1992).\\nREFERENCES\\nHendron, A.J., and Patten, F.D, 1985, The Vaiont Slide. US Corps of Engineers Technical Report GL-85-8.\\nJaegar, C., 1980, Rock mechanics and Engineering. Cambridge University Press, 523 pages.\\nKiersch, G.A., 1964. 'Vaiont reservoir disaster'. Civil Engng, 34, 32-39.\\n\", 'content_type': 'text', 'score': 0.8713754655036475, 'meta': {'_split_id': 9}, 'id_hash_keys': ['content'], 'embedding': None, 'id': '3e31ef39260f96cf19d11f61c4be0a43'}>,\n",
            "               <Document: {'content': \"However Muller (1964) states that:\\n'It appeared hopeless to arrest the slide artificially, because all means that would have had to be applied were beyond human bounds. It was also impossible to either seal the surface of the area, to shift the weight or to cement the rock by means of injections. On the other hand the possibility of accelerating the sliding movement in order to let the entire mass to slide down all at once had to be excluded. The danger arising for the formation upstream of the slide by an uncontrollable level of the storage lake would have been too great.'Figure 3: Chronology of events leading up to the catastrophic failure\\nThus it was decided that an attempt could be made to gain control of the sliding mass by varying the level of water in the reservoir whilst controlling the joint water thrust within the rock mass by means of drainage tunnels. It was realised that this could lead to the blockage of that section of the reservoir by the landslide mass. However the volume of water in the unblocked (upstream) section would still be sufficient to allow the generation of electricity. \", 'content_type': 'text', 'score': 0.8065767894284607, 'meta': {'_split_id': 4}, 'id_hash_keys': ['content'], 'embedding': None, 'id': '6dc9b5f6ba8226a0cfdead97fc5c986'}>,\n",
            "               <Document: {'content': 'Second Filling of the Reservoir\\nFrom the beginning of October 1961 through to early February 1962 the water level was raised to 185 m, followed by a phase of slow impoundment such that in November 1962 the level had reached 235 m. During the early part of this phase velocities did not substantially increase, but by the end of the phase velocities had increased to 1.2 cm day-1 .\\n5. Second Draw-Down of the Reservoir\\nIn November 1962 a second lowering of the level was slowly undertaken, with the water depth decreasing to 185 m after four months. Initially displacements remained high but in December they began to reduce and, by early April when the water height had reached 185 m, the rate was effectively zero. The experiences gained from the second phase of filling and the subsequent draw-down confirmed to the engineers that control of the landslide was possible by altering the level of the reservoir. In consequence a third filling of the reservoir was undertaken.\\n6. Third Filling of the Reservoir\\nBetween April and May 1963 the reservoir level was rapidly increased to 231 m. Slight increases in velocity were noted, but rates never exceeded 0.3 cm day-1. ', 'content_type': 'text', 'score': 0.8056329736292551, 'meta': {'_split_id': 6}, 'id_hash_keys': ['content'], 'embedding': None, 'id': '88a86d569419d49c6005025a7dfaf60e'}>,\n",
            "               <Document: {'content': 'During June the level was increased to 237 m and the rate of displacement increased to 0.4 cm day -1 . In mid July the level reached 240 m and some of the control points indicated small increases in displacement to 0.5 cm day-1. The level was maintained through to mid-August, but during this time velocities increased to 0.8 cm day-1 . In the latter part of August the level was increased once more such that by early September the depth of water was 245 m. In some parts of the slide velocities increased to as much as 3.5 cm day-1 .\\n7. Third Drawing Down of the Reservoir\\nIn late September the water level was slowly dropped to bring the rates of creep back under control. By October 9 a depth of 235 m was reached. However velocities of movement continued to slowly increase, and by October 9 rates of up to 20 cm day-1 were recorded.\\n\\n8. Catastrophic Failure\\nAt 22:38 GMT on October 9 1963 catastrophic failure of the landslide occurred. The entire mass slid approximately 500 m northwards at up to 30 m sec-1. ', 'content_type': 'text', 'score': 0.8027307986327117, 'meta': {'_split_id': 7}, 'id_hash_keys': ['content'], 'embedding': None, 'id': '497da2dc397d32848c025afcf50ac2c9'}>],\n",
            " 'no_ans_gap': 3.0587358474731445,\n",
            " 'node_id': 'Reader',\n",
            " 'params': {'Reader': {'top_k': 5}, 'Retriever': {'top_k': 10}},\n",
            " 'query': 'What is the name of dam?',\n",
            " 'root_node': 'Query'}\n"
          ]
        }
      ],
      "source": [
        "from pprint import pprint\n",
        "\n",
        "pprint(prediction)\n"
      ]
    },
    {
      "cell_type": "code",
      "execution_count": null,
      "metadata": {
        "colab": {
          "base_uri": "https://localhost:8080/"
        },
        "id": "2FV6ctvI2WrE",
        "outputId": "c8bc7c25-79a2-4fcf-88bd-e00dd7226221"
      },
      "outputs": [
        {
          "output_type": "stream",
          "name": "stdout",
          "text": [
            "'Query: What is the name of dam?'\n",
            "'Answers:'\n",
            "[   {   'answer': 'doubly curved arch dam',\n",
            "        'context': 'The completed doubly curved arch dam was, at 265.5 metres '\n",
            "                   'above the valley floor, the worlds highest thin arch dam. '\n",
            "                   'The chord of the dam was 160 m, an'},\n",
            "    {   'answer': 'Vajont reservoir',\n",
            "        'context': 'INTRODUCTION\\n'\n",
            "                   'The Vajont reservoir disaster is a classic example of the '\n",
            "                   'consequences of the failure of engineers and geologists to '\n",
            "                   'understand the natur'},\n",
            "    {   'answer': 'The Vaiont Slide',\n",
            "        'context': 'ust, 1982, 1992).\\n'\n",
            "                   'REFERENCES\\n'\n",
            "                   'Hendron, A.J., and Patten, F.D, 1985, The Vaiont Slide. US '\n",
            "                   'Corps of Engineers Technical Report GL-85-8.\\n'\n",
            "                   'Jaegar, C., 1980,'},\n",
            "    {   'answer': 'storage lake',\n",
            "        'context': 'he formation upstream of the slide by an uncontrollable '\n",
            "                   'level of the storage lake would have been too '\n",
            "                   \"great.'Figure 3: Chronology of events leading up\"},\n",
            "    {   'answer': 'Casso',\n",
            "        'context': 've of water was pushed up the opposite bank and destroyed '\n",
            "                   'the village of Casso, 260 m above lake level before '\n",
            "                   'over-topping the dam by up to 245 m. The'}]\n"
          ]
        }
      ],
      "source": [
        "from haystack.utils import print_answers\n",
        "\n",
        "print_answers(prediction, details=\"minimum\")  ## Choose from `minimum`, `medium`, and `all`\n"
      ]
    },
    {
      "cell_type": "code",
      "execution_count": null,
      "metadata": {
        "id": "KzPFRwrV2aI3"
      },
      "outputs": [],
      "source": []
    }
  ],
  "metadata": {
    "accelerator": "GPU",
    "colab": {
      "provenance": []
    },
    "kernelspec": {
      "display_name": "Python 3",
      "name": "python3"
    },
    "language_info": {
      "name": "python"
    }
  },
  "nbformat": 4,
  "nbformat_minor": 0
}